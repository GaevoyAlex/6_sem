{
 "cells": [
  {
   "cell_type": "code",
   "execution_count": 27,
   "metadata": {},
   "outputs": [],
   "source": [
    "from PIL import Image as img\n",
    "\n",
    "def PixelIn(x,y,im):\n",
    "    im.putpixel((x,y),0)\n",
    "\n",
    "def ROUND(a):\n",
    "    return int(a + 0.5)\n",
    "\n",
    "\n",
    "\n",
    "def DDALine(x1,y1, x2, y2):\n",
    "\n",
    "    im = img.new(mode='1', size=(1000, 1000), color=1)\n",
    "    x, y = x1, y1\n",
    "    length = abs((x2 - x1) if abs(x2 - x1) > abs(y2 - y1) else (y2 - y1))\n",
    "    dx = (x2 - x1) / float(length)\n",
    "    dy = (y2 - y1) / float(length)\n",
    "    for i in range(length):\n",
    "        PixelIn(ROUND(x),ROUND(y),im)\n",
    "        x += dx\n",
    "        y += dy\n",
    "    im.save('DDA Output.png')\n",
    "    im.show()\n",
    "\n",
    "if __name__=='__main__':\n",
    "    DDALine(100,500,700,700)"
   ]
  },
  {
   "attachments": {},
   "cell_type": "markdown",
   "metadata": {},
   "source": [
    "Брезентхем\n"
   ]
  },
  {
   "cell_type": "code",
   "execution_count": 23,
   "metadata": {},
   "outputs": [],
   "source": [
    "from PIL import Image as img\n",
    "\n",
    "def PixelIn(x, y, im):\n",
    "    im.putpixel((x, y), 0)\n",
    "\n",
    "def Bresenham_Line(x1, y1, x2, y2):\n",
    "    im = img.new(mode='1', size=(1000, 1000), color=1)\n",
    "    dx = abs(x2 - x1)\n",
    "    dy = abs(y2 - y1)\n",
    "    slope_error = 2 * dy - dx\n",
    "    y = y1\n",
    "\n",
    "    for x in range(x1, x2 + 1):\n",
    "        PixelIn(x, y, im)\n",
    "        if slope_error > 0:\n",
    "            y += 1\n",
    "            slope_error -= 2 * dx\n",
    "        slope_error += 2 * dy\n",
    "\n",
    "    im.save('Bresenham 1Line Output.png')\n",
    "    im.show()\n",
    "\n",
    "if __name__ == '__main__':\n",
    "    Bresenham_Line(100, 500, 700, 700)\n"
   ]
  },
  {
   "cell_type": "code",
   "execution_count": 24,
   "metadata": {},
   "outputs": [],
   "source": [
    "# Алгоритм Бресенхэма\n",
    "from matplotlib import pyplot as plt\n",
    "import numpy as np\n",
    "\n",
    "\n",
    "def GenericBresenhamLine(x1, y1, x2, y2, color):\n",
    "    dx = abs(x2 - x1)\n",
    "    dy = abs(y2 - y1)\n",
    "    s1 = 1 if ((x2 - x1) > 0) else -1\n",
    "    s2 = 1 if ((y2 - y1) > 0) else -1\n",
    "    boolInterChange = False\n",
    "    if dy > dx:\n",
    "        np.swapaxes(dx, dy)\n",
    "        boolInterChange = True\n",
    "    e = 2 * dy - dx\n",
    "    x = x1\n",
    "    y = y1\n",
    "    for i in range(0, int(dx + 1)):\n",
    "        plt.plot(x, y, color)\n",
    "        if e >= 0:\n",
    "            if boolInterChange:\n",
    "                x += s1\n",
    "            else:\n",
    "                y += s2\n",
    "            e -= 2 * dx\n",
    "        if boolInterChange:\n",
    "            y += s2\n",
    "        else:\n",
    "            x += s1\n",
    "        e += 2 * dy\n",
    "    plt.show()\n",
    "\n",
    "if __name__ == '__main__':\n",
    "    Bresenham_Line(100, 500, 700, 700)"
   ]
  }
 ],
 "metadata": {
  "kernelspec": {
   "display_name": "Python 3",
   "language": "python",
   "name": "python3"
  },
  "language_info": {
   "codemirror_mode": {
    "name": "ipython",
    "version": 3
   },
   "file_extension": ".py",
   "mimetype": "text/x-python",
   "name": "python",
   "nbconvert_exporter": "python",
   "pygments_lexer": "ipython3",
   "version": "3.11.5"
  },
  "orig_nbformat": 4
 },
 "nbformat": 4,
 "nbformat_minor": 2
}
