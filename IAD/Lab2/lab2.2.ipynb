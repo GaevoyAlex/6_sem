{
 "cells": [
  {
   "attachments": {},
   "cell_type": "markdown",
   "metadata": {},
   "source": [
    "Задание 1"
   ]
  },
  {
   "cell_type": "code",
   "execution_count": 3,
   "metadata": {},
   "outputs": [
    {
     "name": "stdout",
     "output_type": "stream",
     "text": [
      "             column_name  percent_missing\n",
      "Invoice          Invoice         0.000000\n",
      "StockCode      StockCode         0.000000\n",
      "Description  Description         0.410541\n",
      "Quantity        Quantity         0.000000\n",
      "InvoiceDate  InvoiceDate         0.000000\n",
      "Price              Price         0.000000\n",
      "Customer ID  Customer ID        22.766873\n",
      "Country          Country         0.000000\n"
     ]
    }
   ],
   "source": [
    "import pandas as pd\n",
    "\n",
    "# Загрузка данных\n",
    "df = pd.read_csv(\"D:/test_rogects/IAD\\Lab2/online_retail_II.csv\")\n",
    "\n",
    "# Рассчитываем процент пропущенных значений для каждого столбца\n",
    "percent_missing = 100 * (df.isnull().sum() / len(df))\n",
    "\n",
    "# Создаем DataFrame с результатами\n",
    "missing_value_df = pd.DataFrame({'column_name': df.columns, 'percent_missing': percent_missing})\n",
    "\n",
    "# Выводим результаты\n",
    "print(missing_value_df)\n"
   ]
  },
  {
   "attachments": {},
   "cell_type": "markdown",
   "metadata": {},
   "source": [
    "Задание2"
   ]
  },
  {
   "cell_type": "code",
   "execution_count": 6,
   "metadata": {},
   "outputs": [
    {
     "name": "stdout",
     "output_type": "stream",
     "text": [
      "Процент некорректных дат: 0.00%\n"
     ]
    }
   ],
   "source": [
    "import pandas as pd\n",
    "\n",
    "# Загрузка данных\n",
    "df = pd.read_csv('D:/test_rogects/IAD\\Lab2/GlobalLandTemperaturesByMajorCity.csv')\n",
    "\n",
    "# Проверка формата дат\n",
    "df['dt'] = pd.to_datetime(df['dt'], format='%Y-%m-%d', errors='coerce')\n",
    "\n",
    "# Подсчет количества некорректных дат\n",
    "incorrect_dates = df['dt'].isnull().sum()\n",
    "\n",
    "# Общее количество записей\n",
    "total_records = len(df)\n",
    "\n",
    "# Рассчитываем процент некорректных дат\n",
    "percent_incorrect_dates = (incorrect_dates / total_records) * 100\n",
    "\n",
    "print(f\"Процент некорректных дат: {percent_incorrect_dates:.2f}%\")\n"
   ]
  },
  {
   "attachments": {},
   "cell_type": "markdown",
   "metadata": {},
   "source": [
    "Задание 3"
   ]
  },
  {
   "cell_type": "code",
   "execution_count": 5,
   "metadata": {},
   "outputs": [
    {
     "name": "stdout",
     "output_type": "stream",
     "text": [
      "Количество актуальных твитов: 179108\n"
     ]
    }
   ],
   "source": [
    "import pandas as pd\n",
    "\n",
    "# Загрузка данных\n",
    "df = pd.read_csv('D:/test_rogects/IAD\\Lab2\\covid19_tweets.csv')\n",
    "\n",
    "# Проверка формата дат\n",
    "df['date'] = pd.to_datetime(df['date'], format='%Y-%m-%d %H:%M:%S', errors='coerce')\n",
    "\n",
    "# Определение актуальных дат\n",
    "current_date = pd.to_datetime('today')\n",
    "actual_tweets = df[df['date'] <= current_date]\n",
    "\n",
    "# Выводим результаты\n",
    "print(f\"Количество актуальных твитов: {len(actual_tweets)}\")\n"
   ]
  },
  {
   "attachments": {},
   "cell_type": "markdown",
   "metadata": {},
   "source": [
    "Задание 4"
   ]
  },
  {
   "cell_type": "code",
   "execution_count": 7,
   "metadata": {},
   "outputs": [
    {
     "name": "stdout",
     "output_type": "stream",
     "text": [
      "   Unnamed: 0  Rank        Country  Cancer_Rate\n",
      "0           0     1      Australia        468.0\n",
      "1           1     2    New Zealand        438.1\n",
      "2           2     3        Ireland        373.7\n",
      "3           3     4        Hungary        368.1\n",
      "4           4     5  United States        352.2\n",
      "Количество уникальных стран: 50 из 50\n"
     ]
    }
   ],
   "source": [
    "import pandas as pd\n",
    "\n",
    "# Загрузка данных\n",
    "df = pd.read_csv('D:/test_rogects/IAD\\Lab2\\Cancer_rate_by_countries.csv')\n",
    "\n",
    "# Посмотрим на первые несколько строк\n",
    "print(df.head())\n",
    "\n",
    "# Проверим, сколько уникальных стран в наборе данных\n",
    "unique_countries = df['Country'].nunique()\n",
    "total_countries = len(df)\n",
    "\n",
    "print(f\"Количество уникальных стран: {unique_countries} из {total_countries}\")\n"
   ]
  }
 ],
 "metadata": {
  "kernelspec": {
   "display_name": "Python 3",
   "language": "python",
   "name": "python3"
  },
  "language_info": {
   "codemirror_mode": {
    "name": "ipython",
    "version": 3
   },
   "file_extension": ".py",
   "mimetype": "text/x-python",
   "name": "python",
   "nbconvert_exporter": "python",
   "pygments_lexer": "ipython3",
   "version": "3.11.5"
  },
  "orig_nbformat": 4
 },
 "nbformat": 4,
 "nbformat_minor": 2
}
